{
 "cells": [
  {
   "cell_type": "code",
   "execution_count": 1,
   "id": "308d8a21",
   "metadata": {},
   "outputs": [],
   "source": [
    "lst=['s10_front.png'\n",
    ",'s11_front1.png'\n",
    ",'s11_front2.png'\n",
    ",'s11_front3.png'\n",
    ",'s12_back.png'\n",
    ",'s12_front.png'\n",
    ",'s14_back1.png'\n",
    ",'s14_back2.png'\n",
    ",'s14_front1.png'\n",
    ",'s14_front2.png'\n",
    ",'s15_back1.png'\n",
    ",'s15_back2.png'\n",
    ",'s15_front1.png'\n",
    ",'s15_front2.png'\n",
    ",'s16_back.png'\n",
    ",'s16_front.png'\n",
    ",'s1_front.png'\n",
    ",'s2_back.png'\n",
    ",'s2_front.png'\n",
    ",'s3_back.png'\n",
    ",'s3_front.png'\n",
    ",'s4_back.png'\n",
    ",'s4_front.png'\n",
    ",'s5_back.png'\n",
    ",'s5_front.png'\n",
    ",'s6_back.png'\n",
    ",'s6_front.png'\n",
    ",'s7_back.png'\n",
    ",'s7_front.png'\n",
    ",'s8_back.png'\n",
    ",'s8_front.png'\n",
    ",'s9_back.png'\n",
    ",'s9_front.png'\n",
    "]\n",
    "import random as rd\n",
    "import os\n"
   ]
  },
  {
   "cell_type": "code",
   "execution_count": 2,
   "id": "2eac6b0f",
   "metadata": {},
   "outputs": [],
   "source": [
    "for i in lst:\n",
    "    ii=i[0:-3]+\"txt\"\n",
    "    if os.path.exists(f\".\\\\dataset\\\\images\\\\{i}\") and os.path.exists(f\".\\\\dataset\\\\labels\\\\{ii}\"):\n",
    "        if rd.random()<0.8:\n",
    "            os.rename(f\".\\\\dataset\\\\images\\\\{i}\",f\".\\\\dataset\\\\images\\\\train\\\\{i}\")\n",
    "            os.rename(f\".\\\\dataset\\\\labels\\\\{ii}\",f\".\\\\dataset\\\\labels\\\\train\\\\{ii}\")\n",
    "        elif rd.random()<0.75:\n",
    "            os.rename(f\".\\\\dataset\\\\images\\\\{i}\",f\".\\\\dataset\\\\images\\\\val\\\\{i}\")\n",
    "            os.rename(f\".\\\\dataset\\\\labels\\\\{ii}\",f\".\\\\dataset\\\\labels\\\\val\\\\{ii}\")\n",
    "        else:\n",
    "            os.rename(f\".\\\\dataset\\\\images\\\\{i}\",f\".\\\\dataset\\\\images\\\\test\\\\{i}\")\n",
    "            os.rename(f\".\\\\dataset\\\\labels\\\\{ii}\",f\".\\\\dataset\\\\labels\\\\test\\\\{ii}\")\n",
    "    else:\n",
    "        print(f\"[ERROR] {i} wrong path!\")\n",
    "        print(os.path.exists(f\".\\\\dataset\\\\images\\\\{i}\"))\n",
    "        print(os.path.exists(f\".\\\\dataset\\\\labels\\\\{ii}\"))"
   ]
  },
  {
   "cell_type": "code",
   "execution_count": null,
   "id": "c0adc748",
   "metadata": {},
   "outputs": [],
   "source": []
  }
 ],
 "metadata": {
  "kernelspec": {
   "display_name": "ai_course",
   "language": "python",
   "name": "python3"
  },
  "language_info": {
   "codemirror_mode": {
    "name": "ipython",
    "version": 3
   },
   "file_extension": ".py",
   "mimetype": "text/x-python",
   "name": "python",
   "nbconvert_exporter": "python",
   "pygments_lexer": "ipython3",
   "version": "3.13.2"
  }
 },
 "nbformat": 4,
 "nbformat_minor": 5
}
